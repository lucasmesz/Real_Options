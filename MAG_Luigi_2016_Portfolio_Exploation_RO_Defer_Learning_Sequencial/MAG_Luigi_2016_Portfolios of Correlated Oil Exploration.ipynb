{
 "cells": [
  {
   "cell_type": "markdown",
   "metadata": {},
   "source": [
    "### Real Options Model with Games Applied to the Rio de Janeiro Residential Real Estate Market, 2019\n",
    "####  Glaudiane Lilian de Almeida, Marco Antonio Guimarães Dias, \n",
    "#### Luiz Eduardo Teixeira Brandão, Carlos Patricio Mercado Samanez"
   ]
  },
  {
   "cell_type": "markdown",
   "metadata": {},
   "source": [
    "[Paper](http://www.realoptions.org/openconf2017/data/papers/57.pdf)"
   ]
  },
  {
   "cell_type": "code",
   "execution_count": 1,
   "metadata": {
    "collapsed": true
   },
   "outputs": [],
   "source": [
    "import numpy as np\n",
    "import pandas as pd\n",
    "import matplotlib.pyplot as plt\n",
    "%matplotlib inline\n",
    "from IPython.display import Image\n",
    "import seaborn as sns\n",
    "import random"
   ]
  },
  {
   "cell_type": "code",
   "execution_count": 23,
   "metadata": {},
   "outputs": [],
   "source": [
    "#Importar Case 1\n",
    "case_1=pd.read_csv(\"Case_1.csv\", sep=';')\n",
    "case_1.set_index('Type', inplace=True)\n"
   ]
  },
  {
   "cell_type": "code",
   "execution_count": 24,
   "metadata": {},
   "outputs": [
    {
     "data": {
      "text/html": [
       "<div>\n",
       "<style>\n",
       "    .dataframe thead tr:only-child th {\n",
       "        text-align: right;\n",
       "    }\n",
       "\n",
       "    .dataframe thead th {\n",
       "        text-align: left;\n",
       "    }\n",
       "\n",
       "    .dataframe tbody tr th {\n",
       "        vertical-align: top;\n",
       "    }\n",
       "</style>\n",
       "<table border=\"1\" class=\"dataframe\">\n",
       "  <thead>\n",
       "    <tr style=\"text-align: right;\">\n",
       "      <th></th>\n",
       "      <th>CF</th>\n",
       "      <th>I_w</th>\n",
       "      <th>P</th>\n",
       "      <th>q</th>\n",
       "      <th>B</th>\n",
       "      <th>I_d</th>\n",
       "    </tr>\n",
       "    <tr>\n",
       "      <th>Type</th>\n",
       "      <th></th>\n",
       "      <th></th>\n",
       "      <th></th>\n",
       "      <th></th>\n",
       "      <th></th>\n",
       "      <th></th>\n",
       "    </tr>\n",
       "  </thead>\n",
       "  <tbody>\n",
       "    <tr>\n",
       "      <th>Safe</th>\n",
       "      <td>0.3</td>\n",
       "      <td>70</td>\n",
       "      <td>50</td>\n",
       "      <td>0.10</td>\n",
       "      <td>500</td>\n",
       "      <td>2300</td>\n",
       "    </tr>\n",
       "    <tr>\n",
       "      <th>Risky</th>\n",
       "      <td>0.2</td>\n",
       "      <td>50</td>\n",
       "      <td>50</td>\n",
       "      <td>0.12</td>\n",
       "      <td>700</td>\n",
       "      <td>4000</td>\n",
       "    </tr>\n",
       "  </tbody>\n",
       "</table>\n",
       "</div>"
      ],
      "text/plain": [
       "        CF  I_w   P     q    B   I_d\n",
       "Type                                \n",
       "Safe   0.3   70  50  0.10  500  2300\n",
       "Risky  0.2   50  50  0.12  700  4000"
      ]
     },
     "execution_count": 24,
     "metadata": {},
     "output_type": "execute_result"
    }
   ],
   "source": [
    "case_1.head()"
   ]
  },
  {
   "cell_type": "code",
   "execution_count": 26,
   "metadata": {},
   "outputs": [],
   "source": [
    "#fórmulas de VPL e VME\n",
    "\n",
    "def NP():\n",
    "    V=q*B*P\n",
    "    I_d= I_d_base*(P/P_b)\n",
    "    NPV= V- I_d\n",
    "    EMV= -I_w + CF*NPV\n",
    "    CF_s_k = CF_k + (np.sqrt((1-CF_j)/CF_j))*(np.sqrt(CF_k*(1-CF_k)))*rho\n",
    "    CF_ins_k = CF_k - (np.sqrt((1-CF_j)/CF_j))*(np.sqrt(CF_k*(1-CF_k)))*rho\n",
    "    \n",
    "    return(NPV)\n",
    "\n",
    "\n"
   ]
  },
  {
   "cell_type": "code",
   "execution_count": null,
   "metadata": {
    "collapsed": true
   },
   "outputs": [],
   "source": []
  }
 ],
 "metadata": {
  "kernelspec": {
   "display_name": "Python 3",
   "language": "python",
   "name": "python3"
  },
  "language_info": {
   "codemirror_mode": {
    "name": "ipython",
    "version": 3
   },
   "file_extension": ".py",
   "mimetype": "text/x-python",
   "name": "python",
   "nbconvert_exporter": "python",
   "pygments_lexer": "ipython3",
   "version": "3.6.1"
  }
 },
 "nbformat": 4,
 "nbformat_minor": 2
}
